{
  "nbformat": 4,
  "nbformat_minor": 0,
  "metadata": {
    "colab": {
      "provenance": [],
      "collapsed_sections": [
        "932L08UNrzwX",
        "WFJbGpKEs-jw",
        "VwS2mGsrvxND",
        "1G9arWzd0uuM",
        "ARU7TDuq1hNS"
      ],
      "toc_visible": true,
      "gpuType": "T4",
      "authorship_tag": "ABX9TyPP1ZOThmvDLoV6DepXYd4Q",
      "include_colab_link": true
    },
    "kernelspec": {
      "name": "python3",
      "display_name": "Python 3"
    },
    "language_info": {
      "name": "python"
    },
    "accelerator": "GPU"
  },
  "cells": [
    {
      "cell_type": "markdown",
      "metadata": {
        "id": "view-in-github",
        "colab_type": "text"
      },
      "source": [
        "<a href=\"https://colab.research.google.com/github/acwing-xlh/pytorch/blob/main/tensor.ipynb\" target=\"_parent\"><img src=\"https://colab.research.google.com/assets/colab-badge.svg\" alt=\"Open In Colab\"/></a>"
      ]
    },
    {
      "cell_type": "code",
      "execution_count": 11,
      "metadata": {
        "colab": {
          "base_uri": "https://localhost:8080/"
        },
        "id": "r4AeUKxIpW8I",
        "outputId": "c40378e4-1230-4e18-a6ec-1aaf03993533"
      },
      "outputs": [
        {
          "output_type": "stream",
          "name": "stdout",
          "text": [
            "Mounted at /content/drive\n"
          ]
        }
      ],
      "source": [
        "import torch\n",
        "import numpy as np\n",
        "from google.colab import drive\n",
        "drive.mount('/content/drive')"
      ]
    },
    {
      "cell_type": "markdown",
      "source": [
        "# tensor的创建\n"
      ],
      "metadata": {
        "id": "932L08UNrzwX"
      }
    },
    {
      "cell_type": "code",
      "source": [
        "# 直接通过数据进行创建\n",
        "x = torch.tensor([1,2,3])\n",
        "x"
      ],
      "metadata": {
        "colab": {
          "base_uri": "https://localhost:8080/"
        },
        "id": "ZkK6z8cjr5h8",
        "outputId": "144e5d86-ffa2-4700-d0c6-57a35d7b7f59"
      },
      "execution_count": 12,
      "outputs": [
        {
          "output_type": "execute_result",
          "data": {
            "text/plain": [
              "tensor([1, 2, 3])"
            ]
          },
          "metadata": {},
          "execution_count": 12
        }
      ]
    },
    {
      "cell_type": "code",
      "source": [
        "# 通过ndarray进行创建\n",
        "x = np.array([1,2,3])\n",
        "x = torch.from_numpy(x)\n",
        "x"
      ],
      "metadata": {
        "colab": {
          "base_uri": "https://localhost:8080/"
        },
        "id": "c3ZfnPH9sF4o",
        "outputId": "32a96345-e6fa-4ce1-99c3-f306e564cbc4"
      },
      "execution_count": 13,
      "outputs": [
        {
          "output_type": "execute_result",
          "data": {
            "text/plain": [
              "tensor([1, 2, 3])"
            ]
          },
          "metadata": {},
          "execution_count": 13
        }
      ]
    },
    {
      "cell_type": "code",
      "source": [
        "# 通过其他tensor进行创建\n",
        "x_ones = torch.ones_like(x)\n",
        "x_ones"
      ],
      "metadata": {
        "colab": {
          "base_uri": "https://localhost:8080/"
        },
        "id": "IjvwW-9gsSge",
        "outputId": "a6883b56-45e7-463f-fafb-6c63535105e9"
      },
      "execution_count": 14,
      "outputs": [
        {
          "output_type": "execute_result",
          "data": {
            "text/plain": [
              "tensor([1, 1, 1])"
            ]
          },
          "metadata": {},
          "execution_count": 14
        }
      ]
    },
    {
      "cell_type": "code",
      "source": [
        "x_zeros = torch.zeros_like(x)\n",
        "x_zeros"
      ],
      "metadata": {
        "colab": {
          "base_uri": "https://localhost:8080/"
        },
        "id": "hq-VxO8UslUA",
        "outputId": "56734af3-96f1-4469-e5a8-03fe42379423"
      },
      "execution_count": 15,
      "outputs": [
        {
          "output_type": "execute_result",
          "data": {
            "text/plain": [
              "tensor([0, 0, 0])"
            ]
          },
          "metadata": {},
          "execution_count": 15
        }
      ]
    },
    {
      "cell_type": "code",
      "source": [
        "# 按照形状进行初始化\n",
        "x_rand = torch.rand((5,3))\n",
        "x_rand"
      ],
      "metadata": {
        "colab": {
          "base_uri": "https://localhost:8080/"
        },
        "id": "imeWFipSsqee",
        "outputId": "b3068e91-a411-4cbb-dcb3-5b197878c8e4"
      },
      "execution_count": 16,
      "outputs": [
        {
          "output_type": "execute_result",
          "data": {
            "text/plain": [
              "tensor([[0.7243, 0.8988, 0.8813],\n",
              "        [0.7516, 0.0754, 0.5707],\n",
              "        [0.2583, 0.6368, 0.7984],\n",
              "        [0.7121, 0.8944, 0.7319],\n",
              "        [0.3643, 0.7593, 0.0931]])"
            ]
          },
          "metadata": {},
          "execution_count": 16
        }
      ]
    },
    {
      "cell_type": "code",
      "source": [
        "x_ones = torch.ones((5,3))\n",
        "x_ones"
      ],
      "metadata": {
        "colab": {
          "base_uri": "https://localhost:8080/"
        },
        "id": "eNa7HCPZs04R",
        "outputId": "f2169287-d703-4407-9c3f-7fbfbf76111e"
      },
      "execution_count": 17,
      "outputs": [
        {
          "output_type": "execute_result",
          "data": {
            "text/plain": [
              "tensor([[1., 1., 1.],\n",
              "        [1., 1., 1.],\n",
              "        [1., 1., 1.],\n",
              "        [1., 1., 1.],\n",
              "        [1., 1., 1.]])"
            ]
          },
          "metadata": {},
          "execution_count": 17
        }
      ]
    },
    {
      "cell_type": "markdown",
      "source": [
        "# tensor的属性"
      ],
      "metadata": {
        "id": "WFJbGpKEs-jw"
      }
    },
    {
      "cell_type": "code",
      "source": [
        "x = torch.tensor([[1,2,3],[1,2,3]])\n",
        "# tensor的形状\n",
        "x.shape"
      ],
      "metadata": {
        "colab": {
          "base_uri": "https://localhost:8080/"
        },
        "id": "ezVG5GrntCV9",
        "outputId": "b63411cd-cbba-413f-8d93-6a06b34546ec"
      },
      "execution_count": 18,
      "outputs": [
        {
          "output_type": "execute_result",
          "data": {
            "text/plain": [
              "torch.Size([2, 3])"
            ]
          },
          "metadata": {},
          "execution_count": 18
        }
      ]
    },
    {
      "cell_type": "code",
      "source": [
        "# tensor的数据类型\n",
        "x.dtype"
      ],
      "metadata": {
        "colab": {
          "base_uri": "https://localhost:8080/"
        },
        "id": "Z3m4BAIRtO0M",
        "outputId": "9ce7812e-9bfa-4ab2-f3bc-e28c04f487b0"
      },
      "execution_count": 19,
      "outputs": [
        {
          "output_type": "execute_result",
          "data": {
            "text/plain": [
              "torch.int64"
            ]
          },
          "metadata": {},
          "execution_count": 19
        }
      ]
    },
    {
      "cell_type": "code",
      "source": [
        "# tensor的设备\n",
        "x.device"
      ],
      "metadata": {
        "colab": {
          "base_uri": "https://localhost:8080/"
        },
        "id": "W4fjq0_CtgBT",
        "outputId": "bc893f3a-82f3-46cb-bd98-a97ed6a57d8f"
      },
      "execution_count": 20,
      "outputs": [
        {
          "output_type": "execute_result",
          "data": {
            "text/plain": [
              "device(type='cpu')"
            ]
          },
          "metadata": {},
          "execution_count": 20
        }
      ]
    },
    {
      "cell_type": "code",
      "source": [
        "if torch.cuda.is_available:\n",
        "  x = x.to(\"cuda\")"
      ],
      "metadata": {
        "id": "Y1fIfh1ntigx"
      },
      "execution_count": 21,
      "outputs": []
    },
    {
      "cell_type": "code",
      "source": [
        "x.device"
      ],
      "metadata": {
        "colab": {
          "base_uri": "https://localhost:8080/"
        },
        "id": "v39oCSWzvmA7",
        "outputId": "5885f343-a435-4c3b-87a8-ccbcc629ed33"
      },
      "execution_count": 22,
      "outputs": [
        {
          "output_type": "execute_result",
          "data": {
            "text/plain": [
              "device(type='cuda', index=0)"
            ]
          },
          "metadata": {},
          "execution_count": 22
        }
      ]
    },
    {
      "cell_type": "markdown",
      "source": [
        "#  tensor的运算\n"
      ],
      "metadata": {
        "id": "VwS2mGsrvxND"
      }
    },
    {
      "cell_type": "code",
      "source": [
        "# tensor的切片操作\n",
        "tensor = torch.rand((5,3))\n",
        "tensor"
      ],
      "metadata": {
        "colab": {
          "base_uri": "https://localhost:8080/"
        },
        "id": "UCV4_3xGv2F5",
        "outputId": "f5450ffa-abb6-463a-9794-09d696f01cf9"
      },
      "execution_count": 24,
      "outputs": [
        {
          "output_type": "execute_result",
          "data": {
            "text/plain": [
              "tensor([[0.2204, 0.2151, 0.2278],\n",
              "        [0.3908, 0.0660, 0.2739],\n",
              "        [0.1014, 0.8561, 0.3283],\n",
              "        [0.5501, 0.5038, 0.7631],\n",
              "        [0.0406, 0.5363, 1.0000]])"
            ]
          },
          "metadata": {},
          "execution_count": 24
        }
      ]
    },
    {
      "cell_type": "code",
      "source": [
        "tensor[:,0]"
      ],
      "metadata": {
        "colab": {
          "base_uri": "https://localhost:8080/"
        },
        "id": "b27SlSXBwzO1",
        "outputId": "1b40eb66-a781-4d42-e582-d23ec2a5e7d2"
      },
      "execution_count": 25,
      "outputs": [
        {
          "output_type": "execute_result",
          "data": {
            "text/plain": [
              "tensor([0.2204, 0.3908, 0.1014, 0.5501, 0.0406])"
            ]
          },
          "metadata": {},
          "execution_count": 25
        }
      ]
    },
    {
      "cell_type": "code",
      "source": [
        "tensor[0:2,1]"
      ],
      "metadata": {
        "colab": {
          "base_uri": "https://localhost:8080/"
        },
        "id": "qjcmD8TSw5Ye",
        "outputId": "695a5e00-a1e5-42d3-db59-81253935d18c"
      },
      "execution_count": 26,
      "outputs": [
        {
          "output_type": "execute_result",
          "data": {
            "text/plain": [
              "tensor([0.2151, 0.0660])"
            ]
          },
          "metadata": {},
          "execution_count": 26
        }
      ]
    },
    {
      "cell_type": "code",
      "source": [
        "# tensor的拼接操作\n",
        "x = torch.ones((1,2))\n",
        "y = torch.zeros((1,2))"
      ],
      "metadata": {
        "id": "IesZd8K1xAdL"
      },
      "execution_count": 28,
      "outputs": []
    },
    {
      "cell_type": "code",
      "source": [
        "result = torch.cat([x,y],dim=0)\n",
        "result.shape"
      ],
      "metadata": {
        "colab": {
          "base_uri": "https://localhost:8080/"
        },
        "id": "mxPpO_kLxTiP",
        "outputId": "f6463f71-e498-486e-c173-54f6142cf55f"
      },
      "execution_count": 39,
      "outputs": [
        {
          "output_type": "execute_result",
          "data": {
            "text/plain": [
              "torch.Size([2, 2])"
            ]
          },
          "metadata": {},
          "execution_count": 39
        }
      ]
    },
    {
      "cell_type": "code",
      "source": [
        "# tensor的算数运算\n",
        "x = torch.ones((3,2))\n",
        "y = torch.ones((2,3))"
      ],
      "metadata": {
        "id": "fZIQxyh8xYoH"
      },
      "execution_count": 61,
      "outputs": []
    },
    {
      "cell_type": "code",
      "source": [
        "## tensor的转置\n",
        "xT = x.T\n",
        "xT"
      ],
      "metadata": {
        "colab": {
          "base_uri": "https://localhost:8080/"
        },
        "id": "VzAGLmpqyXQz",
        "outputId": "615e96f9-f9da-4d50-b936-f1dd2ce6970e"
      },
      "execution_count": 46,
      "outputs": [
        {
          "output_type": "execute_result",
          "data": {
            "text/plain": [
              "tensor([[1., 1., 1.],\n",
              "        [1., 1., 1.]])"
            ]
          },
          "metadata": {},
          "execution_count": 46
        }
      ]
    },
    {
      "cell_type": "code",
      "source": [
        "## tensor的矩阵乘法\n",
        "result = x.matmul(y)\n",
        "result"
      ],
      "metadata": {
        "colab": {
          "base_uri": "https://localhost:8080/"
        },
        "id": "fd8fliOiyhVt",
        "outputId": "5c113696-8646-4571-ae08-20bea5082ce7"
      },
      "execution_count": 47,
      "outputs": [
        {
          "output_type": "execute_result",
          "data": {
            "text/plain": [
              "tensor([[2., 2., 2.],\n",
              "        [2., 2., 2.],\n",
              "        [2., 2., 2.]])"
            ]
          },
          "metadata": {},
          "execution_count": 47
        }
      ]
    },
    {
      "cell_type": "code",
      "source": [
        "## 单一元素tensor转python数字\n",
        "agg = x.sum()\n",
        "agg_item = agg.item()\n",
        "type(agg_item)"
      ],
      "metadata": {
        "colab": {
          "base_uri": "https://localhost:8080/"
        },
        "id": "hgteGHYjy9CC",
        "outputId": "611bebf2-5eea-4e50-f619-cf99d534dcf8"
      },
      "execution_count": 58,
      "outputs": [
        {
          "output_type": "execute_result",
          "data": {
            "text/plain": [
              "float"
            ]
          },
          "metadata": {},
          "execution_count": 58
        }
      ]
    },
    {
      "cell_type": "code",
      "source": [
        "## in_place操作--直接修改自己\n",
        "x.add_(torch.ones_like(x))\n",
        "x"
      ],
      "metadata": {
        "colab": {
          "base_uri": "https://localhost:8080/"
        },
        "id": "LFZZitTDzG6Q",
        "outputId": "27413658-e628-4c31-b149-762914b9df58"
      },
      "execution_count": 62,
      "outputs": [
        {
          "output_type": "execute_result",
          "data": {
            "text/plain": [
              "tensor([[2., 2.],\n",
              "        [2., 2.],\n",
              "        [2., 2.]])"
            ]
          },
          "metadata": {},
          "execution_count": 62
        }
      ]
    },
    {
      "cell_type": "markdown",
      "source": [
        "# tensor和numpy的转换\n"
      ],
      "metadata": {
        "id": "1G9arWzd0uuM"
      }
    },
    {
      "cell_type": "code",
      "source": [
        "data = np.array([[1,2,3],[4,5,6]])\n",
        "data"
      ],
      "metadata": {
        "colab": {
          "base_uri": "https://localhost:8080/"
        },
        "id": "65Ty-FNj00k6",
        "outputId": "bb7ae255-ddcf-439f-b5f7-d7ec80b65eb2"
      },
      "execution_count": 63,
      "outputs": [
        {
          "output_type": "execute_result",
          "data": {
            "text/plain": [
              "array([[1, 2, 3],\n",
              "       [4, 5, 6]])"
            ]
          },
          "metadata": {},
          "execution_count": 63
        }
      ]
    },
    {
      "cell_type": "code",
      "source": [
        "data_tensor = torch.from_numpy(data)\n",
        "data_tensor"
      ],
      "metadata": {
        "colab": {
          "base_uri": "https://localhost:8080/"
        },
        "id": "kyernOG207a2",
        "outputId": "fa430f86-e8a2-46c3-f7af-b5800bbb7b6d"
      },
      "execution_count": 64,
      "outputs": [
        {
          "output_type": "execute_result",
          "data": {
            "text/plain": [
              "tensor([[1, 2, 3],\n",
              "        [4, 5, 6]])"
            ]
          },
          "metadata": {},
          "execution_count": 64
        }
      ]
    },
    {
      "cell_type": "code",
      "source": [
        "data_numpy = data_tensor.numpy()\n",
        "data_numpy"
      ],
      "metadata": {
        "colab": {
          "base_uri": "https://localhost:8080/"
        },
        "id": "yA1J5aLI1Fuh",
        "outputId": "890b05ed-2a78-4da5-ba35-4a1b1f43a08b"
      },
      "execution_count": 65,
      "outputs": [
        {
          "output_type": "execute_result",
          "data": {
            "text/plain": [
              "array([[1, 2, 3],\n",
              "       [4, 5, 6]])"
            ]
          },
          "metadata": {},
          "execution_count": 65
        }
      ]
    },
    {
      "cell_type": "markdown",
      "source": [
        "# 修改tensor的形状"
      ],
      "metadata": {
        "id": "ARU7TDuq1hNS"
      }
    },
    {
      "cell_type": "code",
      "source": [
        "x = torch.rand((4,4))\n",
        "x.shape"
      ],
      "metadata": {
        "colab": {
          "base_uri": "https://localhost:8080/"
        },
        "id": "sene54Sf1kWz",
        "outputId": "870eb434-6695-4670-c0e8-df70fe719f0f"
      },
      "execution_count": 66,
      "outputs": [
        {
          "output_type": "execute_result",
          "data": {
            "text/plain": [
              "torch.Size([4, 4])"
            ]
          },
          "metadata": {},
          "execution_count": 66
        }
      ]
    },
    {
      "cell_type": "code",
      "source": [
        "x = x.view(-1,2)\n",
        "x.shape"
      ],
      "metadata": {
        "colab": {
          "base_uri": "https://localhost:8080/"
        },
        "id": "YWQk_BeU1ofq",
        "outputId": "1b9df090-d2be-48c8-ef5d-87a72671084c"
      },
      "execution_count": 67,
      "outputs": [
        {
          "output_type": "execute_result",
          "data": {
            "text/plain": [
              "torch.Size([8, 2])"
            ]
          },
          "metadata": {},
          "execution_count": 67
        }
      ]
    },
    {
      "cell_type": "markdown",
      "source": [
        "# tensor的自动求导\n",
        "* tensor的requires_grad属性表示是否追踪对该tensor的操作.当完成计算后能够使用backward()来进行反向传播，梯度会被**累加**到grad属性上\n",
        "* 可以使用with torch.no_grad()将不想被追踪的操作代码块包裹起来\n",
        "* tensor.requires_grad_() 修改该属性为true\n",
        "* 梯度会进行累加，因此当不需要前面累加的梯度时，需要使用tensor.grad.data.zeros_()清空\n",
        "\n",
        "\n",
        "\n"
      ],
      "metadata": {
        "id": "yjoJV_is3BhG"
      }
    },
    {
      "cell_type": "code",
      "source": [
        "x = torch.ones(2,2,requires_grad=True)\n",
        "print(x)\n",
        "print(x.grad_fn)"
      ],
      "metadata": {
        "colab": {
          "base_uri": "https://localhost:8080/"
        },
        "id": "Y_p1Vgyz3FEc",
        "outputId": "bbeabd95-93b1-43fe-a10a-a22809a44943"
      },
      "execution_count": 70,
      "outputs": [
        {
          "output_type": "stream",
          "name": "stdout",
          "text": [
            "tensor([[1., 1.],\n",
            "        [1., 1.]], requires_grad=True)\n",
            "None\n"
          ]
        }
      ]
    },
    {
      "cell_type": "code",
      "source": [
        "y = x+2\n",
        "print(y)\n",
        "print(y.grad_fn)"
      ],
      "metadata": {
        "colab": {
          "base_uri": "https://localhost:8080/"
        },
        "id": "PXsZ6Ch_373T",
        "outputId": "24f47cb8-f7b7-4cc7-944c-8b38dd284538"
      },
      "execution_count": 72,
      "outputs": [
        {
          "output_type": "stream",
          "name": "stdout",
          "text": [
            "tensor([[3., 3.],\n",
            "        [3., 3.]], grad_fn=<AddBackward0>)\n",
            "<AddBackward0 object at 0x7de23e4172b0>\n"
          ]
        }
      ]
    },
    {
      "cell_type": "code",
      "source": [
        "z = y * y * 3\n",
        "out = z.mean()\n",
        "print(z)\n",
        "print(out)"
      ],
      "metadata": {
        "colab": {
          "base_uri": "https://localhost:8080/"
        },
        "id": "ElyTrRqS4ClC",
        "outputId": "5191e215-ee3d-49af-a908-7f1f84d3252b"
      },
      "execution_count": 74,
      "outputs": [
        {
          "output_type": "stream",
          "name": "stdout",
          "text": [
            "tensor([[27., 27.],\n",
            "        [27., 27.]], grad_fn=<MulBackward0>)\n",
            "tensor(27., grad_fn=<MeanBackward0>)\n"
          ]
        }
      ]
    },
    {
      "cell_type": "code",
      "source": [
        "# 使用in-place方式改变requeires_grad属性\n",
        "a = torch.randn(2,2)\n",
        "a.requires_grad"
      ],
      "metadata": {
        "colab": {
          "base_uri": "https://localhost:8080/"
        },
        "id": "sPxw2Rjj4Qu9",
        "outputId": "2aed1484-e63a-4af6-fbaa-cc29cb813692"
      },
      "execution_count": 91,
      "outputs": [
        {
          "output_type": "execute_result",
          "data": {
            "text/plain": [
              "False"
            ]
          },
          "metadata": {},
          "execution_count": 91
        }
      ]
    },
    {
      "cell_type": "code",
      "source": [
        "a.requires_grad_()\n",
        "a.requires_grad"
      ],
      "metadata": {
        "colab": {
          "base_uri": "https://localhost:8080/"
        },
        "id": "4bN8xC_24rj7",
        "outputId": "bf74afce-9048-4274-ba99-6f99d092cc4e"
      },
      "execution_count": 93,
      "outputs": [
        {
          "output_type": "execute_result",
          "data": {
            "text/plain": [
              "True"
            ]
          },
          "metadata": {},
          "execution_count": 93
        }
      ]
    },
    {
      "cell_type": "code",
      "source": [
        "# 梯度\n",
        "out.backward()"
      ],
      "metadata": {
        "id": "Wm_LjrFs486z"
      },
      "execution_count": 94,
      "outputs": []
    },
    {
      "cell_type": "code",
      "source": [
        "x.grad"
      ],
      "metadata": {
        "colab": {
          "base_uri": "https://localhost:8080/"
        },
        "id": "jAyqbQ7L7Qhr",
        "outputId": "db021a6a-91ea-4e13-da09-64f5cca0dfa0"
      },
      "execution_count": 95,
      "outputs": [
        {
          "output_type": "execute_result",
          "data": {
            "text/plain": [
              "tensor([[4.5000, 4.5000],\n",
              "        [4.5000, 4.5000]])"
            ]
          },
          "metadata": {},
          "execution_count": 95
        }
      ]
    },
    {
      "cell_type": "code",
      "source": [
        "out2 = x.sum()\n",
        "out2.backward()\n",
        "print(x.grad)"
      ],
      "metadata": {
        "colab": {
          "base_uri": "https://localhost:8080/"
        },
        "id": "x1M75cbb7SRH",
        "outputId": "0b8c2d9e-e535-4888-b764-a068b724427b"
      },
      "execution_count": 98,
      "outputs": [
        {
          "output_type": "stream",
          "name": "stdout",
          "text": [
            "tensor([[5.5000, 5.5000],\n",
            "        [5.5000, 5.5000]])\n"
          ]
        }
      ]
    },
    {
      "cell_type": "code",
      "source": [
        "out3 = x.sum()\n",
        "x.grad.data.zero_()  # 梯度会累加，因此每次都需要清零\n",
        "out3.backward()\n",
        "print(x.grad)"
      ],
      "metadata": {
        "colab": {
          "base_uri": "https://localhost:8080/"
        },
        "id": "0RyQOSug7nq-",
        "outputId": "fe61a5cd-62d7-4300-ff44-1ec432c9f054"
      },
      "execution_count": 100,
      "outputs": [
        {
          "output_type": "stream",
          "name": "stdout",
          "text": [
            "tensor([[1., 1.],\n",
            "        [1., 1.]])\n"
          ]
        }
      ]
    },
    {
      "cell_type": "code",
      "source": [],
      "metadata": {
        "id": "xFKeQ5bV-huj"
      },
      "execution_count": null,
      "outputs": []
    }
  ]
}