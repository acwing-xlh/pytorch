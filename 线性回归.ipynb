{
  "nbformat": 4,
  "nbformat_minor": 0,
  "metadata": {
    "colab": {
      "provenance": [],
      "toc_visible": true,
      "authorship_tag": "ABX9TyPUzQxAHIdxv9hnxtnRbn3W",
      "include_colab_link": true
    },
    "kernelspec": {
      "name": "python3",
      "display_name": "Python 3"
    },
    "language_info": {
      "name": "python"
    }
  },
  "cells": [
    {
      "cell_type": "markdown",
      "metadata": {
        "id": "view-in-github",
        "colab_type": "text"
      },
      "source": [
        "<a href=\"https://colab.research.google.com/github/acwing-xlh/pytorch/blob/main/%E7%BA%BF%E6%80%A7%E5%9B%9E%E5%BD%92.ipynb\" target=\"_parent\"><img src=\"https://colab.research.google.com/assets/colab-badge.svg\" alt=\"Open In Colab\"/></a>"
      ]
    },
    {
      "cell_type": "code",
      "execution_count": null,
      "metadata": {
        "id": "R5mRHifI_h02"
      },
      "outputs": [],
      "source": [
        "import torch\n",
        "import numpy as np\n",
        "import random\n",
        "from torch.utils.data import DataLoader, Dataset,TensorDataset\n",
        "import torch.nn as nn\n",
        "import torch.optim as optim"
      ]
    },
    {
      "cell_type": "markdown",
      "source": [
        "# 生成数据集"
      ],
      "metadata": {
        "id": "j3O44qUNAXbE"
      }
    },
    {
      "cell_type": "code",
      "source": [
        "def create_data(w,b,num_examples):\n",
        "  x = torch.normal(0,1,(num_examples,len(w)))\n",
        "  y = torch.matmul(x,w)+b\n",
        "  y +=torch.normal(0,1,y.shape)\n",
        "  return x,y"
      ],
      "metadata": {
        "id": "gfwUiRvbAZbR"
      },
      "execution_count": null,
      "outputs": []
    },
    {
      "cell_type": "code",
      "source": [
        "true_w = torch.tensor([2,-3.4])\n",
        "true_b = 4.2\n",
        "features,labels = create_data(true_w,true_b,1000)"
      ],
      "metadata": {
        "id": "2U3Xt0aABGo5"
      },
      "execution_count": null,
      "outputs": []
    },
    {
      "cell_type": "code",
      "source": [
        "features.shape"
      ],
      "metadata": {
        "colab": {
          "base_uri": "https://localhost:8080/"
        },
        "id": "nc4KmlHfBW9M",
        "outputId": "ffbdcd2e-4c84-4bac-d9df-1f36d8ab0374"
      },
      "execution_count": null,
      "outputs": [
        {
          "output_type": "execute_result",
          "data": {
            "text/plain": [
              "torch.Size([1000, 2])"
            ]
          },
          "metadata": {},
          "execution_count": 145
        }
      ]
    },
    {
      "cell_type": "code",
      "source": [
        "labels.shape"
      ],
      "metadata": {
        "colab": {
          "base_uri": "https://localhost:8080/"
        },
        "id": "5hRC9DuzGoi-",
        "outputId": "3b7fbcf4-df36-4731-e8d1-92d3cc70a842"
      },
      "execution_count": null,
      "outputs": [
        {
          "output_type": "execute_result",
          "data": {
            "text/plain": [
              "torch.Size([1000])"
            ]
          },
          "metadata": {},
          "execution_count": 146
        }
      ]
    },
    {
      "cell_type": "code",
      "source": [
        "# def data_iter(batch_size,features,labels):\n",
        "#   num_examples = len(features)\n",
        "#   indices = list(range(num_examples))\n",
        "#   random.shuffle(indices)\n",
        "#   for i in range(0,num_examples,batch_size):\n",
        "#     batch_indices = torch.tensor(indices[i:min(i+batch_size,num_examples)])\n",
        "#     yield features[batch_indices],labels[batch_indices]\n",
        "\n",
        "dataloader = DataLoader(TensorDataset(features,labels),10,shuffle=True)"
      ],
      "metadata": {
        "id": "-kKMqzJVGwm_"
      },
      "execution_count": null,
      "outputs": []
    },
    {
      "cell_type": "markdown",
      "source": [
        "# 定义模型"
      ],
      "metadata": {
        "id": "Fw5tPIVcJacu"
      }
    },
    {
      "cell_type": "code",
      "source": [
        "# def linreg(x,w,b):\n",
        "#   return torch.matmul(x,w)+b\n",
        "\n",
        "class linreg(nn.Module):\n",
        "  def __init__(self,n_features):\n",
        "    super(linreg,self).__init__()\n",
        "    self.liner = nn.Linear(n_features,1)\n",
        "  def forward(self,x):\n",
        "    y = self.liner(x)\n",
        "    return y\n",
        "net = linreg(len(true_w))"
      ],
      "metadata": {
        "id": "t9HWLvRGJbu1"
      },
      "execution_count": null,
      "outputs": []
    },
    {
      "cell_type": "markdown",
      "source": [
        "# 初始化模型参数\n"
      ],
      "metadata": {
        "id": "GYe3Xb0iI3RC"
      }
    },
    {
      "cell_type": "code",
      "source": [
        "# w = torch.normal(0,0.01,(2,1),requires_grad = True)\n",
        "# b = torch.zeros(1,requires_grad=True)"
      ],
      "metadata": {
        "id": "FQPhrgEBI59I"
      },
      "execution_count": null,
      "outputs": []
    },
    {
      "cell_type": "markdown",
      "source": [
        "# 定义损失函数"
      ],
      "metadata": {
        "id": "kaVqBfcHJlNm"
      }
    },
    {
      "cell_type": "code",
      "source": [
        "# def squared_loss(y_hat,y):\n",
        "#   return (y_hat - y.reshape(y_hat.shape)) ** 2 / 2\n",
        "\n",
        "loss = nn.MSELoss()"
      ],
      "metadata": {
        "id": "3RG0BqS0Jnxf"
      },
      "execution_count": null,
      "outputs": []
    },
    {
      "cell_type": "markdown",
      "source": [
        "# 定义优化算法"
      ],
      "metadata": {
        "id": "9hyl-u8sKQ9k"
      }
    },
    {
      "cell_type": "code",
      "source": [
        "# def sgd(params,lr,batch_size):\n",
        "#   with torch.no_grad():\n",
        "#     for param in params:\n",
        "#       param-= lr * param.grad / batch_size\n",
        "#       param.grad.data.zero_()\n",
        "\n",
        "optimizer = optim.SGD(net.parameters(),lr=0.03)"
      ],
      "metadata": {
        "id": "v4qUdAMCKT7X"
      },
      "execution_count": null,
      "outputs": []
    },
    {
      "cell_type": "markdown",
      "source": [
        "# 模型训练"
      ],
      "metadata": {
        "id": "yRzF4rjwKvZc"
      }
    },
    {
      "cell_type": "code",
      "source": [
        "# lr = 0.5\n",
        "epochs = 100\n",
        "# net = linreg\n",
        "# loss = squared_loss"
      ],
      "metadata": {
        "id": "OdVgkArjKw9q"
      },
      "execution_count": null,
      "outputs": []
    },
    {
      "cell_type": "code",
      "source": [
        "for epoch in range(epochs):\n",
        "  for x,y in dataloader:\n",
        "    l = loss(net(x),y)\n",
        "    optimizer.zero_grad()\n",
        "    l.backward()\n",
        "    optimizer.step()\n",
        "  with torch.no_grad():\n",
        "    train_loss = loss(net(features),labels)\n",
        "    print(f'eopch={epoch+1},loss={float(train_loss)}')"
      ],
      "metadata": {
        "colab": {
          "base_uri": "https://localhost:8080/"
        },
        "id": "3Z1DYjwHK6ab",
        "outputId": "ce969389-b834-4c32-e52f-1af55692f749"
      },
      "execution_count": null,
      "outputs": [
        {
          "output_type": "stream",
          "name": "stdout",
          "text": [
            "eopch=1,loss=16.00344467163086\n",
            "eopch=2,loss=16.028963088989258\n",
            "eopch=3,loss=15.906732559204102\n",
            "eopch=4,loss=15.924105644226074\n",
            "eopch=5,loss=15.981924057006836\n",
            "eopch=6,loss=15.906965255737305\n",
            "eopch=7,loss=15.93614387512207\n",
            "eopch=8,loss=15.88107967376709\n",
            "eopch=9,loss=15.874154090881348\n",
            "eopch=10,loss=16.011117935180664\n",
            "eopch=11,loss=15.996562004089355\n",
            "eopch=12,loss=15.97624397277832\n",
            "eopch=13,loss=15.993170738220215\n",
            "eopch=14,loss=15.960200309753418\n",
            "eopch=15,loss=16.020362854003906\n",
            "eopch=16,loss=15.899807929992676\n",
            "eopch=17,loss=15.897979736328125\n",
            "eopch=18,loss=16.008800506591797\n",
            "eopch=19,loss=15.901029586791992\n",
            "eopch=20,loss=15.871895790100098\n",
            "eopch=21,loss=15.871996879577637\n",
            "eopch=22,loss=16.000091552734375\n",
            "eopch=23,loss=15.896288871765137\n",
            "eopch=24,loss=15.983540534973145\n",
            "eopch=25,loss=15.9449462890625\n",
            "eopch=26,loss=15.904805183410645\n",
            "eopch=27,loss=16.30925941467285\n",
            "eopch=28,loss=16.23888397216797\n",
            "eopch=29,loss=15.921582221984863\n",
            "eopch=30,loss=15.864279747009277\n",
            "eopch=31,loss=16.002717971801758\n",
            "eopch=32,loss=16.011180877685547\n",
            "eopch=33,loss=16.0048770904541\n",
            "eopch=34,loss=15.954702377319336\n",
            "eopch=35,loss=16.09889793395996\n",
            "eopch=36,loss=16.056177139282227\n",
            "eopch=37,loss=15.90048599243164\n",
            "eopch=38,loss=16.007688522338867\n",
            "eopch=39,loss=16.016460418701172\n",
            "eopch=40,loss=15.987866401672363\n",
            "eopch=41,loss=15.979022979736328\n",
            "eopch=42,loss=15.98537826538086\n",
            "eopch=43,loss=15.945067405700684\n",
            "eopch=44,loss=16.154455184936523\n",
            "eopch=45,loss=16.03852081298828\n",
            "eopch=46,loss=15.91186237335205\n",
            "eopch=47,loss=16.24786949157715\n",
            "eopch=48,loss=16.13280487060547\n",
            "eopch=49,loss=15.986358642578125\n",
            "eopch=50,loss=15.999138832092285\n",
            "eopch=51,loss=15.975689888000488\n",
            "eopch=52,loss=16.07149314880371\n",
            "eopch=53,loss=15.949189186096191\n",
            "eopch=54,loss=15.944416046142578\n",
            "eopch=55,loss=15.879711151123047\n",
            "eopch=56,loss=16.089099884033203\n",
            "eopch=57,loss=16.082881927490234\n",
            "eopch=58,loss=15.965312957763672\n",
            "eopch=59,loss=15.91221809387207\n",
            "eopch=60,loss=15.92722225189209\n",
            "eopch=61,loss=15.965251922607422\n",
            "eopch=62,loss=15.889431953430176\n",
            "eopch=63,loss=15.8732271194458\n",
            "eopch=64,loss=15.967063903808594\n",
            "eopch=65,loss=16.14051628112793\n",
            "eopch=66,loss=15.904151916503906\n",
            "eopch=67,loss=15.960949897766113\n",
            "eopch=68,loss=16.08637046813965\n",
            "eopch=69,loss=16.017004013061523\n",
            "eopch=70,loss=16.041051864624023\n",
            "eopch=71,loss=15.89997673034668\n",
            "eopch=72,loss=16.212087631225586\n",
            "eopch=73,loss=15.908944129943848\n",
            "eopch=74,loss=16.09299659729004\n",
            "eopch=75,loss=15.967379570007324\n",
            "eopch=76,loss=16.121732711791992\n",
            "eopch=77,loss=15.954120635986328\n",
            "eopch=78,loss=16.13632583618164\n",
            "eopch=79,loss=16.02214241027832\n",
            "eopch=80,loss=16.056188583374023\n",
            "eopch=81,loss=16.185283660888672\n",
            "eopch=82,loss=15.924433708190918\n",
            "eopch=83,loss=16.11081314086914\n",
            "eopch=84,loss=15.934591293334961\n",
            "eopch=85,loss=15.913018226623535\n",
            "eopch=86,loss=15.936005592346191\n",
            "eopch=87,loss=16.05389976501465\n",
            "eopch=88,loss=15.875595092773438\n",
            "eopch=89,loss=16.045337677001953\n",
            "eopch=90,loss=15.957887649536133\n",
            "eopch=91,loss=16.112178802490234\n",
            "eopch=92,loss=15.92833423614502\n",
            "eopch=93,loss=15.992502212524414\n",
            "eopch=94,loss=16.0422306060791\n",
            "eopch=95,loss=16.05132484436035\n",
            "eopch=96,loss=15.995081901550293\n",
            "eopch=97,loss=15.974382400512695\n",
            "eopch=98,loss=15.968721389770508\n",
            "eopch=99,loss=15.882893562316895\n",
            "eopch=100,loss=16.047279357910156\n"
          ]
        }
      ]
    },
    {
      "cell_type": "code",
      "source": [
        "print(w,b)"
      ],
      "metadata": {
        "colab": {
          "base_uri": "https://localhost:8080/"
        },
        "id": "G17P485YL_Hm",
        "outputId": "0b12233c-ff8d-4a17-a316-50cf697e8d1d"
      },
      "execution_count": null,
      "outputs": [
        {
          "output_type": "stream",
          "name": "stdout",
          "text": [
            "tensor([[ 1.9817],\n",
            "        [-3.4269]], requires_grad=True) tensor([4.1991], requires_grad=True)\n"
          ]
        }
      ]
    }
  ]
}